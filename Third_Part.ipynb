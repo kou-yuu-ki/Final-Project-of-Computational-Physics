{
 "cells": [
  {
   "cell_type": "markdown",
   "metadata": {},
   "source": [
    "## Third Part - Dispersion Relation\n",
    "#### The Relation between the Coherence Length and the Reciprocal Vector in Bloch Model"
   ]
  },
  {
   "cell_type": "markdown",
   "metadata": {},
   "source": [
    "In the third part, we aim to find out the relation between the coherence length and the reciprocal vector by looking into the phase difference caused by shifting the wavefunction in Bloch model. We set $h$ to be $h_c$ that we obtained in the first part."
   ]
  },
  {
   "cell_type": "code",
   "execution_count": 1,
   "metadata": {},
   "outputs": [],
   "source": [
    "import numpy as np\n",
    "import matplotlib.pyplot as plt\n",
    "from scipy.sparse.linalg import *\n",
    "import scipy.sparse as sparse"
   ]
  },
  {
   "cell_type": "code",
   "execution_count": 2,
   "metadata": {},
   "outputs": [],
   "source": [
    "Sx = np.array([[0,0.5],[0.5,0]])\n",
    "Sy = np.array([[0,-0.5j],[0.5j,0]])\n",
    "Sz = np.array([[0.5,0],[0,-0.5]])\n",
    "I = np.array([[1,0],[0,1]])\n",
    "\n",
    "# Useful algorithm: rotation\n",
    "def Hx(N):\n",
    "    M = [Sx]+ [I]*(N-1) + [Sx]+ [I]*(N-1)  #append: For example, [Sx, I, I, I] + [Sx, I, I, I] = [Sx, I, I, I, Sx, I, I, I]\n",
    "    ans = []\n",
    "    for i in range(N):\n",
    "        tmp = np.array([1,])\n",
    "        for j in range(N):\n",
    "            tmp = np.kron(tmp, M[i + j])  #M[i + j]: swift by one index with the change in i, and sweep with the change in j\n",
    "        ans.append(tmp)\n",
    "    return sum(ans)\n",
    "\n",
    "def Hxx(N):\n",
    "    M = [Sx]*2+ [I]*(N-2) + [Sx]*2+ [I]*(N-2)  #append: For example, [Sx, Sx, I, I] + [Sx, Sx, I, I] = [Sx, Sx, I, I, Sx, Sx, I, I]\n",
    "    ans = []\n",
    "    for i in range(N):\n",
    "        tmp = np.array([1,])\n",
    "        for j in range(N):\n",
    "            tmp = np.kron(tmp, M[i + j])  #M[i + j]: swift by one index with the change in i, and sweep with the change in j\n",
    "        ans.append(tmp)\n",
    "    return sum(ans)\n",
    "\n",
    "def Hz(N):\n",
    "    M = [Sz]+ [I]*(N-1) + [Sz]+ [I]*(N-1)  #append: For example, [Sz, I, I, I] + [Sz, I, I, I] = [Sz, I, I, I, Sz, I, I, I]\n",
    "    ans = []\n",
    "    for i in range(N):\n",
    "        tmp = np.array([1,])\n",
    "        for j in range(N):\n",
    "            tmp = np.kron(tmp, M[i + j])  #M[i + j]: swift by one index with the change in i, and sweep with the change in j\n",
    "        ans.append(tmp)\n",
    "    return sum(ans)"
   ]
  },
  {
   "cell_type": "markdown",
   "metadata": {},
   "source": [
    "To construct an operator that makes a series of spins do permutation by moving the last one to the first one, we make a matrix of $(2^N, 2^N)$.\n",
    "For example:\n",
    "Suppose that $1$ represents for spin up, and $0$ represents for spin down,\n",
    "for a 4-spin system,\n",
    "\n",
    "$1100$,\n",
    "\n",
    "the arrangement of the spins will be\n",
    "\n",
    "$0110$,\n",
    "\n",
    "after the calculation with the shift operator $T$."
   ]
  },
  {
   "cell_type": "code",
   "execution_count": 3,
   "metadata": {},
   "outputs": [],
   "source": [
    "#construct T\n",
    "#The operator for permutation of binary\n",
    "def T(N):\n",
    "    T = np.zeros([2**N, 2**N])\n",
    "    for j in range(2**N):\n",
    "        i = j//2 + (j%2)*(2**(N-1))\n",
    "        T[i][j] = 1\n",
    "    return T"
   ]
  },
  {
   "cell_type": "markdown",
   "metadata": {},
   "source": [
    "Then, we tried to make a block diaganol matrix by multiplying the shift operator $T$ and the eigenstates of a 4-spin system. The block diaganol matrix is named as T_."
   ]
  },
  {
   "cell_type": "code",
   "execution_count": 4,
   "metadata": {},
   "outputs": [
    {
     "name": "stdout",
     "output_type": "stream",
     "text": [
      "The block diaganol matrix T_ for N = 4 is:\n",
      "[[ 1.00000000e+00 -4.05346332e-17 -1.12146604e-16 -3.24460797e-17\n",
      "  -6.44058971e-17  6.56247294e-17 -8.53345868e-18 -9.30024671e-18\n",
      "  -3.23316721e-17 -3.36699853e-17  1.28426697e-17  7.08505361e-33\n",
      "   1.25031662e-32 -1.20942323e-16 -1.85819394e-17 -3.14086586e-17]\n",
      " [-4.05346332e-17  1.00000000e+00  9.74775000e-17  3.19626174e-16\n",
      "   5.54480773e-16  4.66929285e-17  1.38227039e-16  4.78712307e-17\n",
      "   1.63544157e-17 -1.54206917e-17 -1.21249033e-18 -3.27936698e-17\n",
      "   1.13870243e-16  8.71437385e-17 -4.73888484e-16 -8.88428252e-17]\n",
      " [-8.43910286e-17  9.74775000e-17  1.00000000e+00  1.29485810e-15\n",
      "   8.06628451e-16 -2.75085994e-16 -5.37574712e-18  4.35587760e-17\n",
      "   4.00492171e-17  8.31365045e-17 -2.92589116e-17 -4.56231578e-32\n",
      "  -1.61885120e-31  2.38776877e-16  5.01210324e-17 -2.53423705e-17]\n",
      " [ 4.77822902e-17 -3.69880917e-16 -6.96716306e-16  9.56528082e-18\n",
      "   1.00000000e+00 -4.24018273e-17 -5.54761834e-20  2.81890952e-16\n",
      "  -1.76621284e-17  1.15409481e-16 -5.19422958e-17  3.33169408e-17\n",
      "   1.60788327e-16  1.33073802e-16  1.41734795e-16 -7.65950502e-17]\n",
      " [-9.82508392e-17 -8.14388178e-17  1.36103908e-15 -1.00000000e+00\n",
      "   1.65917331e-17 -1.12486531e-16 -4.65815424e-17  1.71598231e-16\n",
      "  -1.50157232e-16  8.81083924e-17  1.13226218e-16  1.26320636e-17\n",
      "   1.53788600e-16  6.49129799e-17  9.39458491e-17 -5.02620056e-17]\n",
      " [ 6.56247294e-17  3.85504387e-17 -2.75085994e-16  4.24016061e-17\n",
      "  -1.49934502e-16 -1.00000000e+00  5.72575592e-17 -2.50018649e-16\n",
      "   1.02934445e-16 -2.00941268e-16 -2.63834075e-16 -6.92447360e-17\n",
      "   7.52759289e-18 -2.41448112e-17  1.21800008e-16  5.07237034e-17]\n",
      " [ 2.12581615e-17  1.09565301e-16 -4.54035247e-17 -1.05228162e-17\n",
      "  -1.23378798e-16  1.36644667e-16 -9.32688487e-01 -1.82515512e-01\n",
      "   3.10176020e-01  2.38979071e-02  3.48888396e-16  4.25064010e-16\n",
      "  -8.20845960e-17  3.55170823e-17  2.60955291e-17  2.23150034e-17]\n",
      " [-2.88195721e-17  4.39107414e-17  6.38194479e-17 -9.95296751e-17\n",
      "   1.34262421e-16 -1.30988570e-17  9.77006791e-02 -6.81649297e-01\n",
      "  -1.61777516e-01  7.06849948e-01  2.17058557e-17 -1.21915420e-16\n",
      "   2.39882738e-17 -1.01555146e-16  1.60371114e-17  1.26062034e-17]\n",
      " [-1.36869610e-17 -3.00217931e-17  2.01633799e-17  1.31472183e-16\n",
      "   3.71909792e-16 -5.68970920e-18  1.61609099e-02 -6.55809269e-01\n",
      "  -2.83403873e-01 -6.99525034e-01  1.64439987e-16 -2.02415505e-16\n",
      "  -5.45775892e-17 -2.34351557e-16 -2.95329292e-17 -8.62331048e-17]\n",
      " [-3.23564425e-17 -1.19721997e-16 -6.93169265e-19 -1.70031295e-16\n",
      "  -1.51617111e-16  3.48339186e-16  3.46822127e-01 -2.68247137e-01\n",
      "   8.92917195e-01 -1.02258343e-01  2.62525323e-16  3.51115000e-17\n",
      "   9.11969689e-17  2.02068473e-16  9.63292999e-17  8.86088672e-17]\n",
      " [ 1.28426697e-17  1.12607627e-17 -2.92589116e-17 -6.62132218e-17\n",
      "  -5.29202224e-17 -2.61205743e-16  2.85251906e-16  1.14590066e-16\n",
      "  -4.52117397e-17  1.48123670e-16  1.00000000e+00 -3.53601225e-16\n",
      "  -2.86502604e-16 -1.47959222e-17 -4.04065601e-17  4.24854531e-17]\n",
      " [-9.50086114e-33 -7.22040665e-17  3.54393081e-32 -3.33169408e-17\n",
      "  -1.26320636e-17 -5.73832867e-18  1.74165312e-16 -1.01450316e-16\n",
      "  -5.58726334e-17 -7.64522205e-17  1.24578503e-16  1.15603657e-17\n",
      "   1.00000000e+00  9.48906895e-32 -3.67932937e-17  3.12196562e-33]\n",
      " [-1.68090625e-32 -1.85522542e-17  1.96250304e-31 -1.60788327e-16\n",
      "  -1.53788600e-16  2.05713295e-17 -2.81760978e-16 -1.48535585e-17\n",
      "   1.33953645e-16 -2.68534999e-17 -1.74780910e-16 -1.00000000e+00\n",
      "  -2.22019592e-18 -1.29481003e-31 -9.14352530e-18 -2.61592504e-32]\n",
      " [-1.20942323e-16  8.71437385e-17  2.38776877e-16  1.34089609e-16\n",
      "   6.39046711e-17 -2.41448112e-17 -4.62301505e-17 -8.16651475e-17\n",
      "  -3.23005770e-16 -3.47921644e-17 -1.47959222e-17 -1.35565542e-31\n",
      "  -9.90370926e-32  1.00000000e+00 -2.26209944e-17  9.75716981e-17]\n",
      " [-1.85819394e-17 -4.51668489e-16  5.01210324e-17 -1.21686528e-16\n",
      "  -5.72842532e-17  1.18456781e-16  1.00016685e-17  2.51107584e-17\n",
      "  -6.74274830e-17  5.07824091e-17 -2.42798683e-18  1.35284570e-16\n",
      "   4.26904997e-17 -2.26209944e-17 -1.00000000e+00  4.31684307e-16]\n",
      " [-3.14086586e-17 -8.88428252e-17 -2.53423705e-17 -1.70025222e-17\n",
      "  -1.52843168e-16  5.07237034e-17  1.02149849e-17  5.85264608e-18\n",
      "  -1.07360068e-16  7.14492814e-17  4.24854531e-17 -1.41298762e-32\n",
      "  -2.53693232e-32  9.75716981e-17  4.31684307e-16  1.00000000e+00]]\n"
     ]
    }
   ],
   "source": [
    "N = 4\n",
    "J = 1\n",
    "T_ = np.zeros([2**N, 2**N])\n",
    "T_array = np.zeros(2**N)\n",
    "h = 1/2\n",
    "for N in [4]:       \n",
    "    H = -J*Hxx(N)-h*Hz(N)\n",
    "    w, v = np.linalg.eigh(H)\n",
    "    T_ = np.transpose(v) @ T(N) @ v\n",
    "    print(\"The block diaganol matrix T_ for N = 4 is:\")\n",
    "    print(T_)"
   ]
  },
  {
   "cell_type": "markdown",
   "metadata": {},
   "source": [
    "Our aim is to find out the eigenvalues of each block matrices inside the block diaganol matrix. In order to do so, we need to determine how to divide these matrices. Since we know that for the last position of a complete matrix, the numbers on its right hand side and below it should all be zero, by adding the absolute values of these numbers and judging whether it's zero, we understand where the last position of each small matrix is and mark them in the list \"block_position\"."
   ]
  },
  {
   "cell_type": "code",
   "execution_count": 5,
   "metadata": {
    "scrolled": true
   },
   "outputs": [
    {
     "name": "stdout",
     "output_type": "stream",
     "text": [
      "The position of the last number in each small block matrix is:\n",
      "[1. 1. 1. 0. 1. 1. 0. 0. 0. 1. 1. 0. 1. 1. 1. 1.]\n"
     ]
    }
   ],
   "source": [
    "block_position = np.zeros(2**N)\n",
    "for i in range(0, 2**N):\n",
    "    x = 0\n",
    "    for j in range(i + 1, 2**N):\n",
    "        x += np.abs(T_[i][j])\n",
    "    for k in range(i + 1, 2**N):\n",
    "        x += np.abs(T_[k][i])\n",
    "    if x < 10**(-10):\n",
    "        block_position[i] = 1\n",
    "print(\"The position of the last number in each small block matrix is:\")\n",
    "print(block_position)"
   ]
  },
  {
   "cell_type": "markdown",
   "metadata": {},
   "source": [
    "Here, we can see that in the list \"block_position\", 1 represents for the last position for each small matrices in the diaganol matrix. Then, we make use of this piece of information to read the original diaganol matrix with a 2D list \"shell_matrix\" by limiting the range of each small matrices. After reading one small matrix into the \"shell_matrix\", the eigenvalue of it is then calculated individually, saved in a new list \"eigens\"."
   ]
  },
  {
   "cell_type": "code",
   "execution_count": 6,
   "metadata": {
    "scrolled": false
   },
   "outputs": [
    {
     "name": "stdout",
     "output_type": "stream",
     "text": [
      "Each small block matrix is shown below in order:\n",
      "[[1.]]\n",
      "[[1.]]\n",
      "[[1.]]\n",
      "[[ 9.56528082e-18  1.00000000e+00]\n",
      " [-1.00000000e+00  1.65917331e-17]]\n",
      "[[-1.]]\n",
      "[[-0.93268849 -0.18251551  0.31017602  0.02389791]\n",
      " [ 0.09770068 -0.6816493  -0.16177752  0.70684995]\n",
      " [ 0.01616091 -0.65580927 -0.28340387 -0.69952503]\n",
      " [ 0.34682213 -0.26824714  0.89291719 -0.10225834]]\n",
      "[[1.]]\n",
      "[[ 1.15603657e-17  1.00000000e+00]\n",
      " [-1.00000000e+00 -2.22019592e-18]]\n",
      "[[1.]]\n",
      "[[-1.]]\n",
      "[[1.]]\n",
      "----------------------------------------------------------------------------------------------------\n",
      "And the eigenvalues of each small block are:\n",
      "[0.9999999999999991, 0.9999999999999993, 0.9999999999999986, (1.3877787807814457e-17+0.9999999999999999j), (1.3877787807814457e-17-0.9999999999999999j), -1.0000000000000013, 1j, -1j, (-1.0000000000000004+0j), (-0.9999999999999998+0j), 1.0000000000000007, 1.0000000000000004j, -1.0000000000000004j, 0.9999999999999996, -1.0000000000000002, 0.9999999999999998]\n"
     ]
    }
   ],
   "source": [
    "eigens = []\n",
    "tmp = 0\n",
    "print(\"Each small block matrix is shown below in order:\")\n",
    "for i in range(0, 2**N):\n",
    "    shell_matrix = np.zeros([i + 1 - tmp, i + 1 - tmp])\n",
    "    if block_position[i] == 1:\n",
    "        for j in range(0, i + 1 - tmp):\n",
    "            for k in range(0, i + 1 - tmp):\n",
    "                shell_matrix[j][k] = T_[j + tmp][k + tmp]\n",
    "        tmp = i + 1\n",
    "        w, v = np.linalg.eig(shell_matrix)\n",
    "        print(shell_matrix)\n",
    "        eigens += w.tolist()\n",
    "print(\"-\"* 100)\n",
    "print(\"And the eigenvalues of each small block are:\")\n",
    "print(eigens)"
   ]
  },
  {
   "cell_type": "markdown",
   "metadata": {},
   "source": [
    "Since we know that what a shift operator can do is to make a phase difference on the wavefunction, we can write:\n",
    "$\\hat{T}\\psi = e^{-2\\pi ik_i/N}\\psi$.\n",
    "Here, we can see that the eigenvalues $\\lambda_i$s are the $e^{-2\\pi ik_i}$s, so we construct $k_i$s by calculating:\n",
    "$k_i = -Im(ln(\\lambda_i))N/2\\pi$"
   ]
  },
  {
   "cell_type": "code",
   "execution_count": 7,
   "metadata": {},
   "outputs": [
    {
     "name": "stdout",
     "output_type": "stream",
     "text": [
      "The values of ks are:\n",
      "[-0. -0. -0. -1.  1. -2. -1.  1. -2. -2. -0. -1.  1. -0. -2. -0.]\n"
     ]
    }
   ],
   "source": [
    "k = []\n",
    "for i in range(0, 2**N):\n",
    "    k = - np.log(eigens).imag*N/(2*np.pi)\n",
    "print(\"The values of ks are:\")\n",
    "print(k)"
   ]
  },
  {
   "cell_type": "markdown",
   "metadata": {},
   "source": [
    "After obtaining the values of $k_i$s, we can plot the graph of the relation between $k$ and $N(E - E_0)/(2\\pi)$."
   ]
  },
  {
   "cell_type": "code",
   "execution_count": 8,
   "metadata": {},
   "outputs": [
    {
     "data": {
      "image/png": "[encoded data removed]",
      "text/plain": [
       "<Figure size 720x576 with 1 Axes>"
      ]
     },
     "metadata": {
      "needs_background": "light"
     },
     "output_type": "display_data"
    }
   ],
   "source": [
    "fig, ax = plt.subplots(ncols=1, nrows=1, figsize=(10,8))\n",
    "\n",
    "for N in [4]:       \n",
    "    H = -J*Hxx(N)-h*Hz(N)\n",
    "    w, v = np.linalg.eigh(H)\n",
    "    \n",
    "    ax.plot(k, 2*N*(w - w[0])/(2*np.pi), '*', label='N={}'.format(N))\n",
    "    ax.legend(fontsize=16)\n",
    "    ax.set_ylim(0, 3)\n",
    "    ax.set_xlabel(r'$k$',fontsize=24)\n",
    "    ax.set_ylabel(r'$N(E - E_0)/(2\\pi)$',fontsize=24)\n",
    "    ax.grid()"
   ]
  },
  {
   "cell_type": "markdown",
   "metadata": {},
   "source": [
    "In the end, since we've tested that the code works for $N = 4$, we now consider N = 4, 6, 8 and plot them in the same graph to show the relation between the coherence length and the reciprocal vector in Bloch Model. From the figure below, we can see that it forms a shape of cone."
   ]
  },
  {
   "cell_type": "code",
   "execution_count": 9,
   "metadata": {},
   "outputs": [
    {
     "data": {
      "image/png": "[encoded data removed]",
      "text/plain": [
       "<Figure size 720x576 with 1 Axes>"
      ]
     },
     "metadata": {
      "needs_background": "light"
     },
     "output_type": "display_data"
    }
   ],
   "source": [
    "fig, ax = plt.subplots(ncols=1, nrows=1, figsize=(10,8))\n",
    "\n",
    "T_ = np.zeros([2**N, 2**N])\n",
    "T_array = np.zeros(2**N)\n",
    "h = 1/2\n",
    "for N in [4, 6, 8]:       \n",
    "    H = -J*Hxx(N)-h*Hz(N)\n",
    "    w, v = np.linalg.eigh(H)\n",
    "    T_ = np.transpose(v) @ T(N) @ v\n",
    "    block_position = np.zeros(2**N)\n",
    "    \n",
    "    for i in range(0, 2**N):\n",
    "        x = 0\n",
    "        for j in range(i + 1, 2**N):\n",
    "            x += np.abs(T_[i][j])\n",
    "        for k in range(i + 1, 2**N):\n",
    "            x += np.abs(T_[k][i])\n",
    "        if x < 10**(-10):\n",
    "            block_position[i] = 1\n",
    "    \n",
    "    eigens = []\n",
    "    tmp = 0\n",
    "    for i in range(0, 2**N):\n",
    "        shell_matrix = np.zeros([i + 1 - tmp, i + 1 - tmp])\n",
    "        if block_position[i] == 1:\n",
    "            for j in range(0, i + 1 - tmp):\n",
    "                for k in range(0, i + 1 - tmp):\n",
    "                    shell_matrix[j][k] = T_[j + tmp][k + tmp]\n",
    "            tmp = i + 1\n",
    "            w, v = np.linalg.eig(shell_matrix)\n",
    "            eigens += w.tolist()\n",
    "    \n",
    "    k = []\n",
    "    for i in range(0, 2**N):\n",
    "        k = - np.log(eigens).imag*N/(2*np.pi)\n",
    "        \n",
    "    w, v = np.linalg.eigh(H)\n",
    "\n",
    "    ax.plot(k, 2*N*(w - w[0])/(2*np.pi), '*', label='N={}'.format(N))\n",
    "    ax.legend(fontsize=16)\n",
    "    ax.set_ylim(0, 3)\n",
    "    ax.set_xlabel(r'$k$',fontsize=24)\n",
    "    ax.set_ylabel(r'$N(E - E_0)/(2\\pi)$',fontsize=24)\n",
    "    ax.grid()"
   ]
  }
 ],
 "metadata": {
  "kernelspec": {
   "display_name": "Python 3",
   "language": "python",
   "name": "python3"
  },
  "language_info": {
   "codemirror_mode": {
    "name": "ipython",
    "version": 3
   },
   "file_extension": ".py",
   "mimetype": "text/x-python",
   "name": "python",
   "nbconvert_exporter": "python",
   "pygments_lexer": "ipython3",
   "version": "3.7.4"
  }
 },
 "nbformat": 4,
 "nbformat_minor": 2
}
