{
 "cells": [
  {
   "cell_type": "markdown",
   "metadata": {},
   "source": [
    "## Third Part\n",
    "#### The Relation between the Coherence Length and the Recipocal Vector with Bloch Model"
   ]
  },
  {
   "cell_type": "code",
   "execution_count": 1,
   "metadata": {},
   "outputs": [],
   "source": [
    "import numpy as np\n",
    "import matplotlib.pyplot as plt\n",
    "from scipy.sparse.linalg import *\n",
    "import scipy.sparse as sparse"
   ]
  },
  {
   "cell_type": "code",
   "execution_count": 2,
   "metadata": {},
   "outputs": [],
   "source": [
    "Sx = np.array([[0,0.5],[0.5,0]])\n",
    "Sy = np.array([[0,-0.5j],[0.5j,0]])\n",
    "Sz = np.array([[0.5,0],[0,-0.5]])\n",
    "I = np.array([[1,0],[0,1]])\n",
    "sparse.csr_matrix(Sx)\n",
    "sparse.csr_matrix(Sy)\n",
    "sparse.csr_matrix(Sz)\n",
    "sparse.csr_matrix(I)\n",
    "\n",
    "# Useful algorithm: rotation\n",
    "def Hx(N):\n",
    "    M = [Sx]+ [I]*(N-1) + [Sx]+ [I]*(N-1)  #append: For example, [Sx, I, I, I] + [Sx, I, I, I] = [Sx, I, I, I, Sx, I, I, I]\n",
    "    ans = []\n",
    "    for i in range(N):\n",
    "        tmp = np.array([1,])\n",
    "        for j in range(N):\n",
    "            tmp = sparse.kron(tmp, M[i + j],format='csr')  #M[i + j]: swift by one index with the change in i, and sweep with the change in j\n",
    "        ans.append(tmp)\n",
    "    return sum(ans)\n",
    "\n",
    "def Hxx(N):\n",
    "    M = [Sx]*2+ [I]*(N-2) + [Sx]*2+ [I]*(N-2)  #append: For example, [Sx, Sx, I, I] + [Sx, Sx, I, I] = [Sx, Sx, I, I, Sx, Sx, I, I]\n",
    "    ans = []\n",
    "    for i in range(N):\n",
    "        tmp = np.array([1,])\n",
    "        for j in range(N):\n",
    "            tmp = sparse.kron(tmp, M[i + j],format='csr')  #M[i + j]: swift by one index with the change in i, and sweep with the change in j\n",
    "        ans.append(tmp)\n",
    "    return sum(ans)\n",
    "\n",
    "def Hz(N):\n",
    "    M = [Sz]+ [I]*(N-1) + [Sz]+ [I]*(N-1)  #append: For example, [Sz, I, I, I] + [Sz, I, I, I] = [Sz, I, I, I, Sz, I, I, I]\n",
    "    ans = []\n",
    "    for i in range(N):\n",
    "        tmp = np.array([1,])\n",
    "        for j in range(N):\n",
    "            tmp = sparse.kron(tmp, M[i + j],format='csr')  #M[i + j]: swift by one index with the change in i, and sweep with the change in j\n",
    "        ans.append(tmp)\n",
    "    return sum(ans)"
   ]
  },
  {
   "cell_type": "code",
   "execution_count": 11,
   "metadata": {},
   "outputs": [
    {
     "name": "stdout",
     "output_type": "stream",
     "text": [
      "4\n",
      "6\n",
      "8\n"
     ]
    },
    {
     "data": {
      "image/png": "[encoded data removed]",
      "text/plain": [
       "<Figure size 720x576 with 1 Axes>"
      ]
     },
     "metadata": {
      "needs_background": "light"
     },
     "output_type": "display_data"
    }
   ],
   "source": [
    "fig, ax = plt.subplots(ncols=1, nrows=1, figsize=(10,8))\n",
    "J = 1\n",
    "tmp = 0\n",
    "color = ['b', 'g', 'r']\n",
    "\n",
    "for N in [4, 6, 8]:\n",
    "    print(N)\n",
    "    coordx, coordy = [], []\n",
    "    h = np.linspace(0.01,1)\n",
    "    delta_E = np.zeros([100, h.shape[0]+1])\n",
    "    for k in [-3, -2, -1, 0, 1, 2, 3]:\n",
    "        for i in range(h.shape[0]):\n",
    "            H = -J*Hxx(N)-h[i]*Hz(N)\n",
    "            w, v = eigsh(H, 4, which='SA')\n",
    "            delta_E[k][i] = w[k] - w[0]\n",
    "        coordx.append(k)\n",
    "        coordy.append(N*delta_E[k][i]/(2*np.pi))\n",
    "    \n",
    "        # dispersion relation\n",
    "    ax.plot(coordx, coordy, color[tmp] + '*', label='N={}'.format(N))\n",
    "    ax.set_title(r\"The dispersion relation\",fontsize=24)\n",
    "    ax.set_xlabel(r'$k$',fontsize=24)\n",
    "    ax.set_ylabel(r'$N(E_k-E_0)/2\\pi$',fontsize=24)\n",
    "    ax.grid()   \n",
    "    tmp += 1\n",
    "    ax.legend(fontsize=16)"
   ]
  },
  {
   "cell_type": "code",
   "execution_count": null,
   "metadata": {},
   "outputs": [],
   "source": []
  }
 ],
 "metadata": {
  "kernelspec": {
   "display_name": "Python 3 (ipykernel)",
   "language": "python",
   "name": "python3"
  },
  "language_info": {
   "codemirror_mode": {
    "name": "ipython",
    "version": 3
   },
   "file_extension": ".py",
   "mimetype": "text/x-python",
   "name": "python",
   "nbconvert_exporter": "python",
   "pygments_lexer": "ipython3",
   "version": "3.9.7"
  }
 },
 "nbformat": 4,
 "nbformat_minor": 2
}
